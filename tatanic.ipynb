{
 "cells": [
  {
   "cell_type": "markdown",
   "metadata": {
    "collapsed": true
   },
   "source": [
    "# This is Titanic Data analysis"
   ]
  },
  {
   "cell_type": "markdown",
   "metadata": {},
   "source": [
    "Main objective:\n",
    "The main objective of this study is to investigate what factors made people more likely to survive in the Titanic Data. The data I am using is the \"titanic_data.csv\". The questions to be solved in this project include:\n",
    "1: how the sex influence the survive rate?\n",
    "2: how the age influence the survive rate?\n",
    "3: how the pclass influence the survive rate?"
   ]
  },
  {
   "cell_type": "raw",
   "metadata": {},
   "source": [
    "1:import the module which is needed in this study"
   ]
  },
  {
   "cell_type": "code",
   "execution_count": 51,
   "metadata": {
    "collapsed": true
   },
   "outputs": [],
   "source": [
    "import pandas as pd\n",
    "import numpy as np\n",
    "import matplotlib\n",
    "import matplotlib.pyplot as plt\n",
    "import seaborn as sns"
   ]
  },
  {
   "cell_type": "raw",
   "metadata": {},
   "source": [
    "2: import the data "
   ]
  },
  {
   "cell_type": "code",
   "execution_count": 52,
   "metadata": {
    "collapsed": false
   },
   "outputs": [
    {
     "data": {
      "text/html": [
       "<div>\n",
       "<style>\n",
       "    .dataframe thead tr:only-child th {\n",
       "        text-align: right;\n",
       "    }\n",
       "\n",
       "    .dataframe thead th {\n",
       "        text-align: left;\n",
       "    }\n",
       "\n",
       "    .dataframe tbody tr th {\n",
       "        vertical-align: top;\n",
       "    }\n",
       "</style>\n",
       "<table border=\"1\" class=\"dataframe\">\n",
       "  <thead>\n",
       "    <tr style=\"text-align: right;\">\n",
       "      <th></th>\n",
       "      <th>PassengerId</th>\n",
       "      <th>Survived</th>\n",
       "      <th>Pclass</th>\n",
       "      <th>Name</th>\n",
       "      <th>Sex</th>\n",
       "      <th>Age</th>\n",
       "      <th>SibSp</th>\n",
       "      <th>Parch</th>\n",
       "      <th>Ticket</th>\n",
       "      <th>Fare</th>\n",
       "      <th>Cabin</th>\n",
       "      <th>Embarked</th>\n",
       "    </tr>\n",
       "  </thead>\n",
       "  <tbody>\n",
       "    <tr>\n",
       "      <th>0</th>\n",
       "      <td>1</td>\n",
       "      <td>0</td>\n",
       "      <td>3</td>\n",
       "      <td>Braund, Mr. Owen Harris</td>\n",
       "      <td>male</td>\n",
       "      <td>22.0</td>\n",
       "      <td>1</td>\n",
       "      <td>0</td>\n",
       "      <td>A/5 21171</td>\n",
       "      <td>7.2500</td>\n",
       "      <td>NaN</td>\n",
       "      <td>S</td>\n",
       "    </tr>\n",
       "    <tr>\n",
       "      <th>1</th>\n",
       "      <td>2</td>\n",
       "      <td>1</td>\n",
       "      <td>1</td>\n",
       "      <td>Cumings, Mrs. John Bradley (Florence Briggs Th...</td>\n",
       "      <td>female</td>\n",
       "      <td>38.0</td>\n",
       "      <td>1</td>\n",
       "      <td>0</td>\n",
       "      <td>PC 17599</td>\n",
       "      <td>71.2833</td>\n",
       "      <td>C85</td>\n",
       "      <td>C</td>\n",
       "    </tr>\n",
       "    <tr>\n",
       "      <th>2</th>\n",
       "      <td>3</td>\n",
       "      <td>1</td>\n",
       "      <td>3</td>\n",
       "      <td>Heikkinen, Miss. Laina</td>\n",
       "      <td>female</td>\n",
       "      <td>26.0</td>\n",
       "      <td>0</td>\n",
       "      <td>0</td>\n",
       "      <td>STON/O2. 3101282</td>\n",
       "      <td>7.9250</td>\n",
       "      <td>NaN</td>\n",
       "      <td>S</td>\n",
       "    </tr>\n",
       "    <tr>\n",
       "      <th>3</th>\n",
       "      <td>4</td>\n",
       "      <td>1</td>\n",
       "      <td>1</td>\n",
       "      <td>Futrelle, Mrs. Jacques Heath (Lily May Peel)</td>\n",
       "      <td>female</td>\n",
       "      <td>35.0</td>\n",
       "      <td>1</td>\n",
       "      <td>0</td>\n",
       "      <td>113803</td>\n",
       "      <td>53.1000</td>\n",
       "      <td>C123</td>\n",
       "      <td>S</td>\n",
       "    </tr>\n",
       "    <tr>\n",
       "      <th>4</th>\n",
       "      <td>5</td>\n",
       "      <td>0</td>\n",
       "      <td>3</td>\n",
       "      <td>Allen, Mr. William Henry</td>\n",
       "      <td>male</td>\n",
       "      <td>35.0</td>\n",
       "      <td>0</td>\n",
       "      <td>0</td>\n",
       "      <td>373450</td>\n",
       "      <td>8.0500</td>\n",
       "      <td>NaN</td>\n",
       "      <td>S</td>\n",
       "    </tr>\n",
       "  </tbody>\n",
       "</table>\n",
       "</div>"
      ],
      "text/plain": [
       "   PassengerId  Survived  Pclass  \\\n",
       "0            1         0       3   \n",
       "1            2         1       1   \n",
       "2            3         1       3   \n",
       "3            4         1       1   \n",
       "4            5         0       3   \n",
       "\n",
       "                                                Name     Sex   Age  SibSp  \\\n",
       "0                            Braund, Mr. Owen Harris    male  22.0      1   \n",
       "1  Cumings, Mrs. John Bradley (Florence Briggs Th...  female  38.0      1   \n",
       "2                             Heikkinen, Miss. Laina  female  26.0      0   \n",
       "3       Futrelle, Mrs. Jacques Heath (Lily May Peel)  female  35.0      1   \n",
       "4                           Allen, Mr. William Henry    male  35.0      0   \n",
       "\n",
       "   Parch            Ticket     Fare Cabin Embarked  \n",
       "0      0         A/5 21171   7.2500   NaN        S  \n",
       "1      0          PC 17599  71.2833   C85        C  \n",
       "2      0  STON/O2. 3101282   7.9250   NaN        S  \n",
       "3      0            113803  53.1000  C123        S  \n",
       "4      0            373450   8.0500   NaN        S  "
      ]
     },
     "execution_count": 52,
     "metadata": {},
     "output_type": "execute_result"
    }
   ],
   "source": [
    "Tatanic_data = pd.read_csv(\"titanic-data.csv\")\n",
    "Tatanic_data.head()"
   ]
  },
  {
   "cell_type": "raw",
   "metadata": {},
   "source": [
    "3. The age distribution in male and famale"
   ]
  },
  {
   "cell_type": "code",
   "execution_count": 53,
   "metadata": {
    "collapsed": false
   },
   "outputs": [
    {
     "name": "stdout",
     "output_type": "stream",
     "text": [
      "          Age                                                    \n",
      "        count       mean        std   min   25%   50%   75%   max\n",
      "Sex                                                              \n",
      "female  261.0  27.915709  14.110146  0.75  18.0  27.0  37.0  63.0\n",
      "male    453.0  30.726645  14.678201  0.42  21.0  29.0  39.0  80.0\n"
     ]
    },
    {
     "data": {
      "image/png": "[encoded data removed]",
      "text/plain": [
       "<matplotlib.figure.Figure at 0xc9fd390>"
      ]
     },
     "metadata": {},
     "output_type": "display_data"
    },
    {
     "data": {
      "image/png": "[encoded data removed]",
      "text/plain": [
       "<matplotlib.figure.Figure at 0xc1140b8>"
      ]
     },
     "metadata": {},
     "output_type": "display_data"
    }
   ],
   "source": [
    "Tatanic_data_clean =  Tatanic_data.loc[:, ('Sex', 'Age')].dropna()\n",
    "print Tatanic_data_clean.groupby('Sex').describe()\n",
    "plt.figure(1)\n",
    "Tatanic_data_clean['Age'].hist(bins = 15, color='green')\n",
    "plt.xlabel('Age',fontsize=14)\n",
    "plt.ylabel('Count',fontsize=14)\n",
    "plt.title('Age distribution',fontsize=14)\n",
    "plt.figure(2)\n",
    "plt.subplot(121)\n",
    "Tatanic_data_clean.loc[Tatanic_data_clean['Sex'] == 'female','Age'].hist(bins = 15, color='red')\n",
    "plt.xlabel('Age',fontsize=14)\n",
    "plt.ylabel('Count',fontsize=14)\n",
    "plt.title('Age distribution of female',fontsize=14)\n",
    "plt.subplot(122)\n",
    "Tatanic_data_clean.loc[Tatanic_data_clean['Sex'] == 'male','Age'].hist(bins = 15, color='blue')\n",
    "plt.xlabel('Age',fontsize=14)\n",
    "plt.ylabel('Count',fontsize=14)\n",
    "plt.title('Age distribution of male',fontsize=14)\n",
    "plt.subplots_adjust(\n",
    "                wspace=0.8, hspace=None)\n",
    "plt.show()"
   ]
  },
  {
   "cell_type": "raw",
   "metadata": {},
   "source": [
    "From the the histogram, we can decide that male number is twice than female. The mean age of famale is around 27.92, the mean age of male is around 30.73. "
   ]
  },
  {
   "cell_type": "raw",
   "metadata": {},
   "source": [
    "4. How sex influence the survive rate?"
   ]
  },
  {
   "cell_type": "code",
   "execution_count": 54,
   "metadata": {
    "collapsed": false
   },
   "outputs": [
    {
     "data": {
      "text/html": [
       "<div>\n",
       "<style>\n",
       "    .dataframe thead tr:only-child th {\n",
       "        text-align: right;\n",
       "    }\n",
       "\n",
       "    .dataframe thead th {\n",
       "        text-align: left;\n",
       "    }\n",
       "\n",
       "    .dataframe tbody tr th {\n",
       "        vertical-align: top;\n",
       "    }\n",
       "</style>\n",
       "<table border=\"1\" class=\"dataframe\">\n",
       "  <thead>\n",
       "    <tr>\n",
       "      <th></th>\n",
       "      <th colspan=\"8\" halign=\"left\">Survived</th>\n",
       "    </tr>\n",
       "    <tr>\n",
       "      <th></th>\n",
       "      <th>count</th>\n",
       "      <th>mean</th>\n",
       "      <th>std</th>\n",
       "      <th>min</th>\n",
       "      <th>25%</th>\n",
       "      <th>50%</th>\n",
       "      <th>75%</th>\n",
       "      <th>max</th>\n",
       "    </tr>\n",
       "    <tr>\n",
       "      <th>Sex</th>\n",
       "      <th></th>\n",
       "      <th></th>\n",
       "      <th></th>\n",
       "      <th></th>\n",
       "      <th></th>\n",
       "      <th></th>\n",
       "      <th></th>\n",
       "      <th></th>\n",
       "    </tr>\n",
       "  </thead>\n",
       "  <tbody>\n",
       "    <tr>\n",
       "      <th>female</th>\n",
       "      <td>314.0</td>\n",
       "      <td>0.742038</td>\n",
       "      <td>0.438211</td>\n",
       "      <td>0.0</td>\n",
       "      <td>0.0</td>\n",
       "      <td>1.0</td>\n",
       "      <td>1.0</td>\n",
       "      <td>1.0</td>\n",
       "    </tr>\n",
       "    <tr>\n",
       "      <th>male</th>\n",
       "      <td>577.0</td>\n",
       "      <td>0.188908</td>\n",
       "      <td>0.391775</td>\n",
       "      <td>0.0</td>\n",
       "      <td>0.0</td>\n",
       "      <td>0.0</td>\n",
       "      <td>0.0</td>\n",
       "      <td>1.0</td>\n",
       "    </tr>\n",
       "  </tbody>\n",
       "</table>\n",
       "</div>"
      ],
      "text/plain": [
       "       Survived                                             \n",
       "          count      mean       std  min  25%  50%  75%  max\n",
       "Sex                                                         \n",
       "female    314.0  0.742038  0.438211  0.0  0.0  1.0  1.0  1.0\n",
       "male      577.0  0.188908  0.391775  0.0  0.0  0.0  0.0  1.0"
      ]
     },
     "execution_count": 54,
     "metadata": {},
     "output_type": "execute_result"
    }
   ],
   "source": [
    "Tatanic_sex_data = Tatanic_data.loc[:, ('Survived', 'Sex')]\n",
    "Tatanic_sex_data_clean =  Tatanic_sex_data.dropna()\n",
    "male_Tatanic_sex_data_clean = Tatanic_sex_data_clean.loc[Tatanic_sex_data_clean['Sex'] =='male', ('Survived', 'Sex')]\n",
    "female_Tatanic_sex_data_clean = Tatanic_sex_data_clean.loc[Tatanic_sex_data_clean['Sex'] == 'female',('Survived', 'Sex')]\n",
    "Tatanic_sex_data_clean.groupby('Sex').describe()"
   ]
  },
  {
   "cell_type": "code",
   "execution_count": 55,
   "metadata": {
    "collapsed": false
   },
   "outputs": [
    {
     "data": {
      "image/png": "[encoded data removed]",
      "text/plain": [
       "<matplotlib.figure.Figure at 0xc518f98>"
      ]
     },
     "metadata": {},
     "output_type": "display_data"
    }
   ],
   "source": [
    "plt.figure(1)\n",
    "plt.subplot(121)\n",
    "male_Tatanic_sex_data_clean.groupby('Survived')['Sex'].count().plot.pie(labels=('died','survived'),autopct='%1.1f%%',fontsize=14)\n",
    "plt.title('Male survived/died ratio',fontsize=14)\n",
    "plt.subplot(122)\n",
    "female_Tatanic_sex_data_clean.groupby('Survived')['Sex'].count().plot.pie(labels=('died','survived'),autopct='%1.1f%%',\n",
    "                                                                          fontsize=14)\n",
    "plt.title('Female survived/died ratio',fontsize=14)\n",
    "plt.subplots_adjust(left=1, bottom=None, right=2, top=None,\n",
    "                wspace=None, hspace=None)\n",
    "plt.show()\n"
   ]
  },
  {
   "cell_type": "markdown",
   "metadata": {},
   "source": [
    "From this we can know that the male survive mean is 0.1889, which is much lower than the famale survive mean, which is 0.7420. So most man is gentle man. "
   ]
  },
  {
   "cell_type": "raw",
   "metadata": {},
   "source": [
    "5. How age influence the survive rate? "
   ]
  },
  {
   "cell_type": "code",
   "execution_count": 56,
   "metadata": {
    "collapsed": false
   },
   "outputs": [
    {
     "data": {
      "text/html": [
       "<div>\n",
       "<style>\n",
       "    .dataframe thead tr:only-child th {\n",
       "        text-align: right;\n",
       "    }\n",
       "\n",
       "    .dataframe thead th {\n",
       "        text-align: left;\n",
       "    }\n",
       "\n",
       "    .dataframe tbody tr th {\n",
       "        vertical-align: top;\n",
       "    }\n",
       "</style>\n",
       "<table border=\"1\" class=\"dataframe\">\n",
       "  <thead>\n",
       "    <tr>\n",
       "      <th></th>\n",
       "      <th colspan=\"8\" halign=\"left\">Survived</th>\n",
       "      <th colspan=\"8\" halign=\"left\">Age</th>\n",
       "    </tr>\n",
       "    <tr>\n",
       "      <th></th>\n",
       "      <th>count</th>\n",
       "      <th>mean</th>\n",
       "      <th>std</th>\n",
       "      <th>min</th>\n",
       "      <th>25%</th>\n",
       "      <th>50%</th>\n",
       "      <th>75%</th>\n",
       "      <th>max</th>\n",
       "      <th>count</th>\n",
       "      <th>mean</th>\n",
       "      <th>std</th>\n",
       "      <th>min</th>\n",
       "      <th>25%</th>\n",
       "      <th>50%</th>\n",
       "      <th>75%</th>\n",
       "      <th>max</th>\n",
       "    </tr>\n",
       "    <tr>\n",
       "      <th>Age</th>\n",
       "      <th></th>\n",
       "      <th></th>\n",
       "      <th></th>\n",
       "      <th></th>\n",
       "      <th></th>\n",
       "      <th></th>\n",
       "      <th></th>\n",
       "      <th></th>\n",
       "      <th></th>\n",
       "      <th></th>\n",
       "      <th></th>\n",
       "      <th></th>\n",
       "      <th></th>\n",
       "      <th></th>\n",
       "      <th></th>\n",
       "      <th></th>\n",
       "    </tr>\n",
       "  </thead>\n",
       "  <tbody>\n",
       "    <tr>\n",
       "      <th>(0, 18]</th>\n",
       "      <td>139.0</td>\n",
       "      <td>0.503597</td>\n",
       "      <td>0.501795</td>\n",
       "      <td>0.0</td>\n",
       "      <td>0.0</td>\n",
       "      <td>1.0</td>\n",
       "      <td>1.0</td>\n",
       "      <td>1.0</td>\n",
       "      <td>139.0</td>\n",
       "      <td>10.717050</td>\n",
       "      <td>6.465828</td>\n",
       "      <td>0.42</td>\n",
       "      <td>4.0</td>\n",
       "      <td>13.0</td>\n",
       "      <td>17.0</td>\n",
       "      <td>18.0</td>\n",
       "    </tr>\n",
       "    <tr>\n",
       "      <th>(18, 60]</th>\n",
       "      <td>553.0</td>\n",
       "      <td>0.388788</td>\n",
       "      <td>0.487916</td>\n",
       "      <td>0.0</td>\n",
       "      <td>0.0</td>\n",
       "      <td>0.0</td>\n",
       "      <td>1.0</td>\n",
       "      <td>1.0</td>\n",
       "      <td>553.0</td>\n",
       "      <td>33.025316</td>\n",
       "      <td>10.332133</td>\n",
       "      <td>19.00</td>\n",
       "      <td>24.5</td>\n",
       "      <td>31.0</td>\n",
       "      <td>40.0</td>\n",
       "      <td>60.0</td>\n",
       "    </tr>\n",
       "    <tr>\n",
       "      <th>(60, 100]</th>\n",
       "      <td>22.0</td>\n",
       "      <td>0.227273</td>\n",
       "      <td>0.428932</td>\n",
       "      <td>0.0</td>\n",
       "      <td>0.0</td>\n",
       "      <td>0.0</td>\n",
       "      <td>0.0</td>\n",
       "      <td>1.0</td>\n",
       "      <td>22.0</td>\n",
       "      <td>66.022727</td>\n",
       "      <td>5.024884</td>\n",
       "      <td>61.00</td>\n",
       "      <td>62.0</td>\n",
       "      <td>64.5</td>\n",
       "      <td>70.0</td>\n",
       "      <td>80.0</td>\n",
       "    </tr>\n",
       "  </tbody>\n",
       "</table>\n",
       "</div>"
      ],
      "text/plain": [
       "          Survived                                                 Age  \\\n",
       "             count      mean       std  min  25%  50%  75%  max  count   \n",
       "Age                                                                      \n",
       "(0, 18]      139.0  0.503597  0.501795  0.0  0.0  1.0  1.0  1.0  139.0   \n",
       "(18, 60]     553.0  0.388788  0.487916  0.0  0.0  0.0  1.0  1.0  553.0   \n",
       "(60, 100]     22.0  0.227273  0.428932  0.0  0.0  0.0  0.0  1.0   22.0   \n",
       "\n",
       "                                                                \n",
       "                mean        std    min   25%   50%   75%   max  \n",
       "Age                                                             \n",
       "(0, 18]    10.717050   6.465828   0.42   4.0  13.0  17.0  18.0  \n",
       "(18, 60]   33.025316  10.332133  19.00  24.5  31.0  40.0  60.0  \n",
       "(60, 100]  66.022727   5.024884  61.00  62.0  64.5  70.0  80.0  "
      ]
     },
     "execution_count": 56,
     "metadata": {},
     "output_type": "execute_result"
    }
   ],
   "source": [
    "Tatanic_age_data = Tatanic_data.loc[:, ('Survived', 'Age')]\n",
    "Tatanic_age_data_clean =  Tatanic_age_data.dropna()\n",
    "bins = np.array([0, 18,  60, 100])\n",
    "groups = Tatanic_age_data_clean.groupby((pd.cut(Tatanic_age_data_clean['Age'], bins)))\n",
    "groups.describe()"
   ]
  },
  {
   "cell_type": "code",
   "execution_count": 57,
   "metadata": {
    "collapsed": false
   },
   "outputs": [
    {
     "data": {
      "image/png": "[encoded data removed]",
      "text/plain": [
       "<matplotlib.figure.Figure at 0xc507518>"
      ]
     },
     "metadata": {},
     "output_type": "display_data"
    }
   ],
   "source": [
    "plt.figure(1)\n",
    "groups['Survived'].count().plot.bar(grid=True, color = 'blue')\n",
    "groups['Survived'].sum().plot.bar(grid=True,color = 'red')\n",
    "plt.xlabel('Age group',fontsize=14)\n",
    "plt.ylabel('number of people',fontsize=14)\n",
    "plt.xticks(fontsize=14) \n",
    "plt.yticks(fontsize=14)\n",
    "plt.title('Number of total/survived people in different age group',fontsize=18)\n",
    "plt.legend(('Total','Survived'),fontsize=14,loc=\"upper left\")\n",
    "plt.show()"
   ]
  },
  {
   "cell_type": "markdown",
   "metadata": {},
   "source": [
    "From this we can know that the children survive rate is around 0.50, which is much higher than adult survive rate. But tht old people survive rate is the smallest. "
   ]
  },
  {
   "cell_type": "raw",
   "metadata": {},
   "source": [
    "6. How the class influence the survive rate?"
   ]
  },
  {
   "cell_type": "code",
   "execution_count": 58,
   "metadata": {
    "collapsed": false
   },
   "outputs": [
    {
     "data": {
      "text/html": [
       "<div>\n",
       "<style>\n",
       "    .dataframe thead tr:only-child th {\n",
       "        text-align: right;\n",
       "    }\n",
       "\n",
       "    .dataframe thead th {\n",
       "        text-align: left;\n",
       "    }\n",
       "\n",
       "    .dataframe tbody tr th {\n",
       "        vertical-align: top;\n",
       "    }\n",
       "</style>\n",
       "<table border=\"1\" class=\"dataframe\">\n",
       "  <thead>\n",
       "    <tr>\n",
       "      <th></th>\n",
       "      <th colspan=\"8\" halign=\"left\">Survived</th>\n",
       "    </tr>\n",
       "    <tr>\n",
       "      <th></th>\n",
       "      <th>count</th>\n",
       "      <th>mean</th>\n",
       "      <th>std</th>\n",
       "      <th>min</th>\n",
       "      <th>25%</th>\n",
       "      <th>50%</th>\n",
       "      <th>75%</th>\n",
       "      <th>max</th>\n",
       "    </tr>\n",
       "    <tr>\n",
       "      <th>Pclass</th>\n",
       "      <th></th>\n",
       "      <th></th>\n",
       "      <th></th>\n",
       "      <th></th>\n",
       "      <th></th>\n",
       "      <th></th>\n",
       "      <th></th>\n",
       "      <th></th>\n",
       "    </tr>\n",
       "  </thead>\n",
       "  <tbody>\n",
       "    <tr>\n",
       "      <th>1</th>\n",
       "      <td>216.0</td>\n",
       "      <td>0.629630</td>\n",
       "      <td>0.484026</td>\n",
       "      <td>0.0</td>\n",
       "      <td>0.0</td>\n",
       "      <td>1.0</td>\n",
       "      <td>1.0</td>\n",
       "      <td>1.0</td>\n",
       "    </tr>\n",
       "    <tr>\n",
       "      <th>2</th>\n",
       "      <td>184.0</td>\n",
       "      <td>0.472826</td>\n",
       "      <td>0.500623</td>\n",
       "      <td>0.0</td>\n",
       "      <td>0.0</td>\n",
       "      <td>0.0</td>\n",
       "      <td>1.0</td>\n",
       "      <td>1.0</td>\n",
       "    </tr>\n",
       "    <tr>\n",
       "      <th>3</th>\n",
       "      <td>491.0</td>\n",
       "      <td>0.242363</td>\n",
       "      <td>0.428949</td>\n",
       "      <td>0.0</td>\n",
       "      <td>0.0</td>\n",
       "      <td>0.0</td>\n",
       "      <td>0.0</td>\n",
       "      <td>1.0</td>\n",
       "    </tr>\n",
       "  </tbody>\n",
       "</table>\n",
       "</div>"
      ],
      "text/plain": [
       "       Survived                                             \n",
       "          count      mean       std  min  25%  50%  75%  max\n",
       "Pclass                                                      \n",
       "1         216.0  0.629630  0.484026  0.0  0.0  1.0  1.0  1.0\n",
       "2         184.0  0.472826  0.500623  0.0  0.0  0.0  1.0  1.0\n",
       "3         491.0  0.242363  0.428949  0.0  0.0  0.0  0.0  1.0"
      ]
     },
     "execution_count": 58,
     "metadata": {},
     "output_type": "execute_result"
    }
   ],
   "source": [
    "Tatanic_age_data = Tatanic_data.loc[:, ('Survived', 'Pclass')]\n",
    "Tatanic_age_data_clean =  Tatanic_age_data.dropna()\n",
    "Tatanic_age_data_clean.groupby('Pclass').describe()"
   ]
  },
  {
   "cell_type": "markdown",
   "metadata": {},
   "source": [
    "From this study, it shows that the survive rate in the first class is highest, while the third class is the lowest.  "
   ]
  },
  {
   "cell_type": "code",
   "execution_count": 59,
   "metadata": {
    "collapsed": false
   },
   "outputs": [
    {
     "data": {
      "image/png": "[encoded data removed]",
      "text/plain": [
       "<matplotlib.figure.Figure at 0xd4da128>"
      ]
     },
     "metadata": {},
     "output_type": "display_data"
    }
   ],
   "source": [
    "plt.figure(1)\n",
    "Tatanic_age_data_clean.loc[:, 'Pclass'].hist(bins = 15, color='blue')\n",
    "Tatanic_age_data_clean.loc[Tatanic_age_data_clean['Survived'] == 1, 'Pclass'].hist(bins = 15, color='red')\n",
    "plt.xlabel('pclass',fontsize=14)\n",
    "plt.ylabel('number of people',fontsize=14)\n",
    "plt.legend(('Total number','Survived people number'),fontsize=14)\n",
    "plt.title('Number of total/survived people in different class',fontsize=18)\n",
    "plt.xticks([1,2,3], ('class1', 'class2', 'class3'),fontsize=14) \n",
    "plt.yticks(fontsize=14)\n",
    "plt.show()"
   ]
  },
  {
   "cell_type": "markdown",
   "metadata": {
    "collapsed": true
   },
   "source": [
    "From this study, it shows that most people in class 1 survive, almost half of people in class 2 survive. However, less than \n",
    "quarter of people in class 3 survive. "
   ]
  },
  {
   "cell_type": "markdown",
   "metadata": {},
   "source": [
    "7. Whether the age has a strong correlation with the class?"
   ]
  },
  {
   "cell_type": "code",
   "execution_count": 61,
   "metadata": {
    "collapsed": false
   },
   "outputs": [
    {
     "name": "stdout",
     "output_type": "stream",
     "text": [
      "-0.369226015316\n"
     ]
    },
    {
     "data": {
      "image/png": "[encoded data removed]",
      "text/plain": [
       "<matplotlib.figure.Figure at 0xc9eed30>"
      ]
     },
     "metadata": {},
     "output_type": "display_data"
    }
   ],
   "source": [
    "Tatanic_age_class_data_clean =  Tatanic_data.loc[:, ('Pclass', 'Age')].dropna()\n",
    "class_data = Tatanic_age_class_data_clean['Pclass']\n",
    "age_data = Tatanic_age_class_data_clean['Age']\n",
    "def correlation(x, y):\n",
    "    std_x = (x - x.mean())/x.std(ddof = 0)\n",
    "    std_y = (y - y.mean())/y.std(ddof = 0)\n",
    "    return (std_x * std_y).mean()\n",
    "print correlation(class_data, age_data)\n",
    "def stan(column):\n",
    "    return (column - column.mean())/column.std(ddof = 0)\n",
    "df_clean = Tatanic_age_class_data_clean.apply(stan)\n",
    "class_data = df_clean['Pclass']\n",
    "age_data = df_clean['Age']\n",
    "plt.xlabel('pclass distribution',fontsize=14)\n",
    "plt.ylabel('Age distribution',fontsize=14)\n",
    "plt.legend(('Total number','Survived people number'),fontsize=14)\n",
    "plt.title('Correlations between age with class',fontsize=18)\n",
    "plt.xticks(fontsize=14) \n",
    "plt.scatter(x=class_data, y=age_data)\n",
    "plt.show()\n"
   ]
  },
  {
   "cell_type": "markdown",
   "metadata": {},
   "source": [
    "From the p value, we know that the age has a slight negative correlation with the class. So we can think that age and class are two independent variables. From Wikipedia (https://en.wikipedia.org/wiki/RMS_Titanic#Passengers), we know that the total passengers is around 1300. There has around 800 passengers in our data base. So the sample size is close to the population size. That is why I calculate the population standard deviation with \"ddof = 0\" in my code."
   ]
  },
  {
   "cell_type": "markdown",
   "metadata": {
    "collapsed": true
   },
   "source": [
    "Conclusion:\n",
    "From the analysis, the sex, age and class all influence the survive rate. The sex and class have a significant effect on the survive rate."
   ]
  },
  {
   "cell_type": "code",
   "execution_count": null,
   "metadata": {
    "collapsed": true
   },
   "outputs": [],
   "source": []
  }
 ],
 "metadata": {
  "kernelspec": {
   "display_name": "Python 2",
   "language": "python",
   "name": "python2"
  },
  "language_info": {
   "codemirror_mode": {
    "name": "ipython",
    "version": 2
   },
   "file_extension": ".py",
   "mimetype": "text/x-python",
   "name": "python",
   "nbconvert_exporter": "python",
   "pygments_lexer": "ipython2",
   "version": "2.7.13"
  }
 },
 "nbformat": 4,
 "nbformat_minor": 2
}
